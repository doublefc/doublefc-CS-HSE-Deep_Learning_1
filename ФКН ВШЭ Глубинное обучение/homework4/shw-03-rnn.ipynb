{
 "cells": [
  {
   "cell_type": "markdown",
   "id": "f1c368f2",
   "metadata": {},
   "source": [
    "# Глубинное обучение 1 / Введение в глубинное обучение, ФКН ВШЭ\n",
    "\n",
    "## Домашнее задание 3: RNN и языковые модели \n",
    "\n",
    "### Общая информация\n",
    "\n",
    "Оценка после штрафа после мягкого дедлайна вычисляется по формуле $M_{\\text{penalty}} = M_{\\text{full}} \\cdot 0.85^{t/1440}$, где $M_{\\text{full}}$ — полная оценка за работу без учета штрафа, а $t$ — время в минутах, прошедшее после мягкого дедлайна (округление до двух цифр после запятой). Таким образом, спустя первые сутки после мягкого дедлайна вы не можете получить оценку выше 12.75, а если сдать через четыре дня после мягкого дедлайна, то ваш максимум — 7.83 балла.\n",
    "\n",
    "### Оценивание и штрафы\n",
    "\n",
    "Максимально допустимая оценка за работу — 15 баллов. Сдавать задание после указанного срока сдачи нельзя.\n",
    "\n",
    "Задание выполняется самостоятельно. «Похожие» решения считаются плагиатом и все задействованные студенты (в том числе те, у кого списали) не могут получить за него больше 0 баллов. Если вы нашли решение какого-то из заданий (или его часть) в открытом источнике, необходимо указать ссылку на этот источник в отдельном блоке в конце вашей работы (скорее всего вы будете не единственным, кто это нашел, поэтому чтобы исключить подозрение в плагиате, необходима ссылка на источник).\n",
    "\n",
    "Неэффективная реализация кода может негативно отразиться на оценке. Также оценка может быть снижена за плохо читаемый код и плохо оформленные графики. Все ответы должны сопровождаться кодом или комментариями о том, как они были получены.\n",
    "\n",
    "### О задании\n",
    "\n",
    "В этом задании вам предстоит обучить рекуррентную нейронную сеть для задачи генерации текстов. В качестве данных возьмем набор из 120 тысяч анекдотов (всех категорий от А до Я включительно). Его вы можете найти в архиве `jokes.txt.zip`, который доступен по [ссылке](https://disk.yandex.com/d/fjt5xICH-ukEEA)."
   ]
  },
  {
   "cell_type": "code",
   "execution_count": 1,
   "id": "f284033d",
   "metadata": {},
   "outputs": [],
   "source": [
    "import torch"
   ]
  },
  {
   "cell_type": "code",
   "execution_count": 2,
   "id": "b35b1cee",
   "metadata": {},
   "outputs": [],
   "source": [
    "%load_ext autoreload\n",
    "%autoreload 2"
   ]
  },
  {
   "cell_type": "code",
   "execution_count": 3,
   "id": "6613bfa7",
   "metadata": {},
   "outputs": [],
   "source": [
    "device = torch.device('cuda' if torch.cuda.is_available() else 'cpu')"
   ]
  },
  {
   "cell_type": "markdown",
   "id": "1daae037",
   "metadata": {},
   "source": [
    "## Задание 1: Dataset (1 балл)\n",
    "\n",
    "В этом задании мы будет пользоваться библиотекой [sentencepiece](https://github.com/google/sentencepiece), которая поддерживает разные форматы токенизации текстов, в том числе BPE, который мы и будем использовать. Реализуйте недостающие фрагменты кода в классе `TextDataset` в файле `dataset.py`. Датасет обучает sentencepiece токенизатор, токенизирует тексты, превращает токены в индексы и паддит до одной и той же длины (параметр `max_length`). Не забудьте, что для генерации текстов нам будут нужны специальные токены начала и конца последовательности, соответственно `BOS` и `EOS`. Существуют еще два специальных токена &mdash; паддинг `PAD` и токен `UNK`, заменяющий out-of-vocabulary токены."
   ]
  },
  {
   "cell_type": "code",
   "execution_count": 4,
   "id": "2dfa4648",
   "metadata": {},
   "outputs": [
    {
     "name": "stdout",
     "output_type": "stream",
     "text": [
      "Requirement already satisfied: sentencepiece in c:\\users\\stepan\\anaconda3\\lib\\site-packages (0.1.99)\n"
     ]
    }
   ],
   "source": [
    "!pip install sentencepiece"
   ]
  },
  {
   "cell_type": "code",
   "execution_count": 5,
   "id": "a0ed11c5",
   "metadata": {},
   "outputs": [
    {
     "name": "stderr",
     "output_type": "stream",
     "text": [
      "C:\\Users\\Stepan\\anaconda3\\lib\\site-packages\\scipy\\__init__.py:146: UserWarning: A NumPy version >=1.16.5 and <1.23.0 is required for this version of SciPy (detected version 1.26.2\n",
      "  warnings.warn(f\"A NumPy version >={np_minversion} and <{np_maxversion}\"\n"
     ]
    }
   ],
   "source": [
    "import torch\n",
    "import numpy as np\n",
    "from dataset import TextDataset"
   ]
  },
  {
   "cell_type": "code",
   "execution_count": 6,
   "id": "81630e30",
   "metadata": {},
   "outputs": [],
   "source": [
    "train_set = TextDataset(data_file='jokes.txt', train=True, sp_model_prefix='word', model_type='bpe', vocab_size=5000)\n",
    "valid_set = TextDataset(data_file='jokes.txt', train=False, sp_model_prefix='word', model_type='bpe', vocab_size=5000)\n",
    "train_loader = torch.utils.data.DataLoader(train_set, batch_size=64, shuffle=True)\n",
    "val_loader = torch.utils.data.DataLoader(valid_set, batch_size=64, shuffle=False)"
   ]
  },
  {
   "cell_type": "code",
   "execution_count": 7,
   "id": "27555b9a",
   "metadata": {},
   "outputs": [
    {
     "name": "stdout",
     "output_type": "stream",
     "text": [
      "120759\n"
     ]
    }
   ],
   "source": [
    "print(len(train_set) + len(valid_set))\n",
    "for _ in range(5):\n",
    "    for dataset in (train_set, valid_set):\n",
    "        indices, length = dataset[np.random.randint(len(dataset))]\n",
    "        assert indices.shape == (dataset.max_length, )\n",
    "        assert indices[0].item() == dataset.bos_id\n",
    "        assert (indices == dataset.eos_id).sum().item() == 1\n",
    "\n",
    "        eos_pos = indices.tolist().index(dataset.eos_id)\n",
    "        assert torch.all(indices[eos_pos + 1:] == dataset.pad_id)\n",
    "        assert (indices != dataset.pad_id).sum() == length"
   ]
  },
  {
   "cell_type": "markdown",
   "id": "5db087d5",
   "metadata": {},
   "source": [
    "## Задание 2 Language model (3.5 балла)\n",
    "\n",
    "Реализуйте класс `LanguageModel` из файла `model.py`. Мы будем генерировать текст с помощью языковой модели &mdash; это авторегрессионная вероятностная модель, которая предсказывает распределение следующего токена при условии предыдущих:\n",
    "\n",
    "$$\n",
    "p(x_1, x_2, x_3, \\dots, x_T) = p(x_1) \\cdot p(x_2 | x_1) \\cdot p(x_3|x_1, x_2) \\, \\cdot \\, \\dots \\, \\cdot \\, p(x_T|x_1, \\dots, x_{T-1})\n",
    "$$\n",
    "\n",
    "Мы будем реализовывать ее с помощью рекуррентной нейронной сети. Ваш код должен поддерживать возможность работать как с оригинальной [RNN](https://pytorch.org/docs/stable/generated/torch.nn.RNN.html#torch.nn.RNN), так и c [LSTM](https://bitly.com/98K8eH). На каждом временном шаге модель возвращает логиты вероятностей для следующего токена. Модель будет работать в двух режимах (не путать с `.train()` и `.eval()`):\n",
    "\n",
    "- В режиме обучения (метод `forward`) модель принимает настоящие последовательности из датасета и их длины. На каждом временном шаге возвращаются логиты вероятностей следующего токена, что позволяет считать лосс, обучаться на трейне и валидироваться на валидации.\n",
    "\n",
    "- В режиме генерации (инференса, метод `inference`) модель принимает некоторый префикс (возможно пустой), с которого начинать генерацию, и продолжает его. Для этого на каждом шаге генерируются новые логиты, семплируется новый токен (из распределения, заданного логитами), и процесс продолжается, пока не будет сгенерирован токен `EOS` или не будет достигнуто ограничение на длину последовательности. **Обратите внимание**, что вам не нужно прогонять всю последовательность заново через RNN после каждого нового токена, это приведет к квадратичной сложности по длине последовательности. Вам достаточно обновлять скрытое состояние, подавая на вход новый сгенерированный токен и предыдущее скрытое состояние. Кроме того, чтобы получить больше контроля над генерацией, вводится параметр температуры `temp`. Перед семплированием нужно разделить на него логиты, полученные моделью. "
   ]
  },
  {
   "cell_type": "code",
   "execution_count": 8,
   "id": "378c1231",
   "metadata": {},
   "outputs": [],
   "source": [
    "from model import LanguageModel"
   ]
  },
  {
   "cell_type": "code",
   "execution_count": 9,
   "id": "99427388",
   "metadata": {},
   "outputs": [],
   "source": [
    "model = LanguageModel(train_set).to(device)"
   ]
  },
  {
   "cell_type": "code",
   "execution_count": 10,
   "id": "199406f1",
   "metadata": {},
   "outputs": [],
   "source": [
    "# Код должен проходить тесты\n",
    "for bs in [1, 4, 16, 64, 256]:\n",
    "    indices = torch.randint(high=train_set.vocab_size, size=(bs, train_set.max_length))\n",
    "    lengths = torch.randint(low=1, high=train_set.max_length + 1, size=(bs, ))\n",
    "    logits = model(indices, lengths)\n",
    "    \n",
    "\n",
    "for prefix in ['', 'купил мужик шляпу,', 'сел медведь в машину и', 'подумал штирлиц']:\n",
    "    generated = model.inference(prefix, temp=np.random.uniform(0.1, 10))\n",
    "    assert type(generated) == str\n",
    "    assert generated.startswith(prefix)"
   ]
  },
  {
   "cell_type": "markdown",
   "id": "a7eacf83",
   "metadata": {},
   "source": [
    "## Задание 3: Training (2 балла)\n",
    "\n",
    "Всё, что нам осталось &mdash; реализовать цикл обучения. Заполните пропуски в файле `train.py`. Не забудьте, что мы учим модель предсказывать вероятность следующего, а не текущего токена. Также рекомендуется обрезать батч индексов по самой длинной последовательности, чтобы не гонять паддинги вхолостую. Для оценки качества генерации будем использовать метрику [perplexity](https://towardsdatascience.com/perplexity-in-language-models-87a196019a94). Реализуйте ее подсчет в функции `plot_losses` (да, для этого достаточно только значения лосса).\n",
    "\n",
    "Обучите модель, используя ванильную RNN в качестве рекуррентного слоя. Сохраните чекпойнт обученной модели, он нам еще пригодится. "
   ]
  },
  {
   "cell_type": "code",
   "execution_count": 11,
   "id": "fd6ab7dd",
   "metadata": {},
   "outputs": [],
   "source": [
    "from train import train\n",
    "import torch.nn as nn"
   ]
  },
  {
   "cell_type": "code",
   "execution_count": 12,
   "id": "1f1aa902",
   "metadata": {},
   "outputs": [],
   "source": [
    "model_rnn = LanguageModel(train_set).to(device)\n",
    "optimizer = torch.optim.Adam(model_rnn.parameters(), lr=1e-4, weight_decay=0.0001)\n",
    "scheduler = torch.optim.lr_scheduler.ExponentialLR(optimizer=optimizer, gamma=0.9999)"
   ]
  },
  {
   "cell_type": "code",
   "execution_count": 13,
   "id": "c3a04dc0",
   "metadata": {},
   "outputs": [
    {
     "data": {
      "image/png": "[encoded data removed]",
      "text/plain": [
       "<Figure size 936x288 with 2 Axes>"
      ]
     },
     "metadata": {},
     "output_type": "display_data"
    },
    {
     "name": "stdout",
     "output_type": "stream",
     "text": [
      "Generation examples:\n",
      "- не нужно дваловла, место берут получаетсяванияюскиках.\n",
      "\n",
      "купил мужик шляпу, что дорогой рал- первую? ч- мы самый пла до. правитель прошло.\n",
      "\n",
      "сел медведь в машину и в пи, заченом сегодня га. рабо морящегочала.- пей, поло теперь достанами набира придумалин никто.\n",
      "\n",
      "подумал штирлиц, такцы оху соешь. ты опла обиныммашен...\n",
      "\n"
     ]
    }
   ],
   "source": [
    "train(model=model_rnn, optimizer=optimizer,\n",
    "          train_loader=train_loader, val_loader=val_loader, num_epochs= 1, num_examples=5, scheduler=None)"
   ]
  },
  {
   "cell_type": "code",
   "execution_count": 14,
   "id": "547c046c",
   "metadata": {},
   "outputs": [],
   "source": [
    "torch.save(model_rnn.state_dict(), 'model_rnn_checkpoint.pth')"
   ]
  },
  {
   "cell_type": "markdown",
   "id": "86dad5e1",
   "metadata": {},
   "source": [
    "## Задание 4: LSTM (0.5 балла)\n",
    "\n",
    "Обучите аналогичную модель, но с LSTM в качестве рекуррентного слоя. Сравните модели по метрикам и генерации. Не забывайте про чекпойнты!"
   ]
  },
  {
   "cell_type": "code",
   "execution_count": 15,
   "id": "d457cd6f",
   "metadata": {},
   "outputs": [],
   "source": [
    "model_lstm = LanguageModel(train_set, rnn_layers=1, rnn_type=nn.LSTM).to(device)\n",
    "optimizer = torch.optim.Adam(model_lstm.parameters(), lr=1e-3,weight_decay=0.0001 )\n",
    "scheduler = torch.optim.lr_scheduler.ExponentialLR(optimizer=optimizer, gamma=0.9)"
   ]
  },
  {
   "cell_type": "code",
   "execution_count": 16,
   "id": "d351c117",
   "metadata": {},
   "outputs": [
    {
     "data": {
      "image/png": "[encoded data removed]",
      "text/plain": [
       "<Figure size 936x288 with 2 Axes>"
      ]
     },
     "metadata": {},
     "output_type": "display_data"
    },
    {
     "name": "stdout",
     "output_type": "stream",
     "text": [
      "Generation examples:\n",
      "- как вы работкаянопали?- первым?- да, а какая опять тебе. ец от кабви налижку своей о том?\n",
      "\n",
      "купил мужик шляпу, что не бог маленькая глупо добнисть выкоеть, кто уже и стоятьлую...\n",
      "\n",
      "сел медведь в машину и не было получил лонете своего на неболье подороена и все-таки у негонию тетная увершу поставил.\n",
      "\n",
      "подумал штирлиц, просто нужно ввасах заводере предгромдки.\n",
      "\n"
     ]
    }
   ],
   "source": [
    "train(model=model_lstm, optimizer=optimizer,\n",
    "          train_loader=train_loader, val_loader=val_loader, num_epochs= 1, num_examples=5, scheduler=scheduler)"
   ]
  },
  {
   "cell_type": "code",
   "execution_count": 17,
   "id": "39bee46c",
   "metadata": {},
   "outputs": [],
   "source": [
    "torch.save(model_lstm.state_dict(), 'model_lstm_checkpoint.pth')"
   ]
  },
  {
   "cell_type": "code",
   "execution_count": 18,
   "id": "e347fbbf",
   "metadata": {},
   "outputs": [
    {
     "data": {
      "text/plain": [
       "'from GPTModel import TransformerModel\\nfrom torch.optim.lr_scheduler import SequentialLR, ExponentialLR\\n#scheduler1 = ExponentialLR(optimizer, gamma=1.008)\\nscheduler1 = torch.optim.lr_scheduler.CyclicLR(optimizer, base_lr=1e-10, max_lr=1e-3, step_size_up=1000, cycle_momentum=False)\\nscheduler2 = ExponentialLR(optimizer, gamma=0.9999)\\nscheduler = torch.optim.lr_scheduler.OneCycleLR(optimizer, max_lr=0.002, total_steps = 90*120759//128)'"
      ]
     },
     "execution_count": 18,
     "metadata": {},
     "output_type": "execute_result"
    }
   ],
   "source": [
    "'''from GPTModel import TransformerModel\n",
    "from torch.optim.lr_scheduler import SequentialLR, ExponentialLR\n",
    "#scheduler1 = ExponentialLR(optimizer, gamma=1.008)\n",
    "scheduler1 = torch.optim.lr_scheduler.CyclicLR(optimizer, base_lr=1e-10, max_lr=1e-3, step_size_up=1000, cycle_momentum=False)\n",
    "scheduler2 = ExponentialLR(optimizer, gamma=0.9999)\n",
    "scheduler = torch.optim.lr_scheduler.OneCycleLR(optimizer, max_lr=0.002, total_steps = 90*120759//128)'''"
   ]
  },
  {
   "cell_type": "markdown",
   "id": "2d23819c",
   "metadata": {},
   "source": [
    "## Задание 5: Sampling temperature (0.5 балла)\n",
    "\n",
    "Поэкспериментируйте, как результат генерации зависит от параметра температуры. Попробуйте генерацию с разными префиксами. Сделайте выводы. "
   ]
  },
  {
   "cell_type": "code",
   "execution_count": 19,
   "id": "14bd1bfb",
   "metadata": {},
   "outputs": [
    {
     "name": "stdout",
     "output_type": "stream",
     "text": [
      "купил мужик шляпу, что он не в россии, а не поделить.\n",
      "\n",
      "сел медведь в машину и не может быть и не могу.\n",
      "\n",
      "подумал штирлиц, что у вас в россии - это когда ты не было, а я - как-то, но в чем будет не будет.\n",
      "\n",
      "штирлиц, что в россии не было, как лучше забили.\n",
      "\n",
      "колобок - это когда-то не в жизни, то же, что у тебя есть в жизни, а я не до сих пор, а если не был все.\n",
      "\n"
     ]
    }
   ],
   "source": [
    "for prefix in ['купил мужик шляпу,', 'сел медведь в машину и', 'подумал штирлиц', 'штирлиц ', 'колобок ']:\n",
    "\n",
    "    generated = model_lstm.inference(prefix, temp=0.4)\n",
    "    print(generated)\n",
    "    print()"
   ]
  },
  {
   "cell_type": "markdown",
   "id": "ff3967c7",
   "metadata": {},
   "source": [
    "## Задание 5: Tokenizers (1 балл)\n",
    "\n",
    "До сих пор мы использовали BPE токенизатор с относительно небольшим числом токенов (2000 по умолчанию). Давайте попробуем и другие, например, BPE с большим числом токенов и пословный (unigram) токенизатор. Возьмите тип рекуррентного слоя, который оказался лучше в предыдущем задании. Обучите модели на таких токенизаторах и сравните их генерацию. Не забывайте сохранять чекпойнты. Правильно ли сравнивать между собой получившиеся модели по значению perplexity? Почему?"
   ]
  },
  {
   "cell_type": "code",
   "execution_count": 20,
   "id": "015566e0",
   "metadata": {},
   "outputs": [],
   "source": [
    "torch.cuda.empty_cache()"
   ]
  },
  {
   "cell_type": "code",
   "execution_count": 21,
   "id": "4589b3d9",
   "metadata": {},
   "outputs": [],
   "source": [
    "train_set_bpe = TextDataset(data_file='jokes.txt', train=True, sp_model_prefix='bpe', vocab_size=3000)\n",
    "valid_set = TextDataset(data_file='jokes.txt', train=False, sp_model_prefix='bpe', vocab_size=3000)\n",
    "train_loader = torch.utils.data.DataLoader(train_set, batch_size=64, shuffle=True)\n",
    "val_loader = torch.utils.data.DataLoader(valid_set, batch_size=64, shuffle=False)"
   ]
  },
  {
   "cell_type": "code",
   "execution_count": 22,
   "id": "48e58ea3",
   "metadata": {},
   "outputs": [],
   "source": [
    "model_bpe = LanguageModel(train_set_bpe, rnn_layers=1, rnn_type=nn.LSTM).to(device)\n",
    "optimizer = torch.optim.Adam(model_bpe.parameters(), lr=1e-4, weight_decay=0.0001)\n",
    "scheduler = torch.optim.lr_scheduler.ExponentialLR(optimizer, gamma=0.9)"
   ]
  },
  {
   "cell_type": "code",
   "execution_count": 23,
   "id": "0e1cebf2",
   "metadata": {},
   "outputs": [
    {
     "data": {
      "application/vnd.jupyter.widget-view+json": {
       "model_id": "124239c2877a43f4b67ae5b44f5262ea",
       "version_major": 2,
       "version_minor": 0
      },
      "text/plain": [
       "Training 1/1:   0%|          | 0/1793 [00:00<?, ?it/s]"
      ]
     },
     "metadata": {},
     "output_type": "display_data"
    },
    {
     "ename": "RuntimeError",
     "evalue": "CUDA error: device-side assert triggered\nCUDA kernel errors might be asynchronously reported at some other API call, so the stacktrace below might be incorrect.\nFor debugging consider passing CUDA_LAUNCH_BLOCKING=1.\nCompile with `TORCH_USE_CUDA_DSA` to enable device-side assertions.\n",
     "output_type": "error",
     "traceback": [
      "\u001b[1;31m---------------------------------------------------------------------------\u001b[0m",
      "\u001b[1;31mRuntimeError\u001b[0m                              Traceback (most recent call last)",
      "Input \u001b[1;32mIn [23]\u001b[0m, in \u001b[0;36m<cell line: 1>\u001b[1;34m()\u001b[0m\n\u001b[1;32m----> 1\u001b[0m \u001b[43mtrain\u001b[49m\u001b[43m(\u001b[49m\u001b[43mmodel\u001b[49m\u001b[38;5;241;43m=\u001b[39;49m\u001b[43mmodel_bpe\u001b[49m\u001b[43m,\u001b[49m\u001b[43m \u001b[49m\u001b[43moptimizer\u001b[49m\u001b[38;5;241;43m=\u001b[39;49m\u001b[43moptimizer\u001b[49m\u001b[43m,\u001b[49m\n\u001b[0;32m      2\u001b[0m \u001b[43m          \u001b[49m\u001b[43mtrain_loader\u001b[49m\u001b[38;5;241;43m=\u001b[39;49m\u001b[43mtrain_loader\u001b[49m\u001b[43m,\u001b[49m\u001b[43m \u001b[49m\u001b[43mval_loader\u001b[49m\u001b[38;5;241;43m=\u001b[39;49m\u001b[43mval_loader\u001b[49m\u001b[43m,\u001b[49m\u001b[43m \u001b[49m\u001b[43mnum_epochs\u001b[49m\u001b[38;5;241;43m=\u001b[39;49m\u001b[43m \u001b[49m\u001b[38;5;241;43m1\u001b[39;49m\u001b[43m,\u001b[49m\u001b[43m \u001b[49m\u001b[43mnum_examples\u001b[49m\u001b[38;5;241;43m=\u001b[39;49m\u001b[38;5;241;43m3\u001b[39;49m\u001b[43m,\u001b[49m\u001b[43m \u001b[49m\u001b[43mscheduler\u001b[49m\u001b[38;5;241;43m=\u001b[39;49m\u001b[38;5;28;43;01mNone\u001b[39;49;00m\u001b[43m,\u001b[49m\u001b[43m \u001b[49m\u001b[43mtemp\u001b[49m\u001b[38;5;241;43m=\u001b[39;49m\u001b[38;5;241;43m0.5\u001b[39;49m\u001b[43m)\u001b[49m\n",
      "File \u001b[1;32m~\\Desktop\\1111111111\\ДЗ3\\train.py:92\u001b[0m, in \u001b[0;36mtrain\u001b[1;34m(model, optimizer, scheduler, train_loader, val_loader, num_epochs, num_examples, temp)\u001b[0m\n\u001b[0;32m     89\u001b[0m criterion \u001b[38;5;241m=\u001b[39m nn\u001b[38;5;241m.\u001b[39mCrossEntropyLoss(ignore_index\u001b[38;5;241m=\u001b[39mtrain_loader\u001b[38;5;241m.\u001b[39mdataset\u001b[38;5;241m.\u001b[39mpad_id)\n\u001b[0;32m     91\u001b[0m \u001b[38;5;28;01mfor\u001b[39;00m epoch \u001b[38;5;129;01min\u001b[39;00m \u001b[38;5;28mrange\u001b[39m(\u001b[38;5;241m1\u001b[39m, num_epochs \u001b[38;5;241m+\u001b[39m \u001b[38;5;241m1\u001b[39m):\n\u001b[1;32m---> 92\u001b[0m     train_loss \u001b[38;5;241m=\u001b[39m \u001b[43mtraining_epoch\u001b[49m\u001b[43m(\u001b[49m\n\u001b[0;32m     93\u001b[0m \u001b[43m        \u001b[49m\u001b[43mmodel\u001b[49m\u001b[43m,\u001b[49m\u001b[43m \u001b[49m\u001b[43moptimizer\u001b[49m\u001b[43m,\u001b[49m\u001b[43m \u001b[49m\u001b[43mcriterion\u001b[49m\u001b[43m,\u001b[49m\u001b[43m \u001b[49m\u001b[43mtrain_loader\u001b[49m\u001b[43m,\u001b[49m\n\u001b[0;32m     94\u001b[0m \u001b[43m        \u001b[49m\u001b[43mtqdm_desc\u001b[49m\u001b[38;5;241;43m=\u001b[39;49m\u001b[38;5;124;43mf\u001b[39;49m\u001b[38;5;124;43m'\u001b[39;49m\u001b[38;5;124;43mTraining \u001b[39;49m\u001b[38;5;132;43;01m{\u001b[39;49;00m\u001b[43mepoch\u001b[49m\u001b[38;5;132;43;01m}\u001b[39;49;00m\u001b[38;5;124;43m/\u001b[39;49m\u001b[38;5;132;43;01m{\u001b[39;49;00m\u001b[43mnum_epochs\u001b[49m\u001b[38;5;132;43;01m}\u001b[39;49;00m\u001b[38;5;124;43m'\u001b[39;49m\u001b[43m,\u001b[49m\u001b[43m \u001b[49m\u001b[43mscheduler\u001b[49m\u001b[38;5;241;43m=\u001b[39;49m\u001b[43mscheduler\u001b[49m\n\u001b[0;32m     95\u001b[0m \u001b[43m    \u001b[49m\u001b[43m)\u001b[49m\n\u001b[0;32m     96\u001b[0m     val_loss \u001b[38;5;241m=\u001b[39m validation_epoch(\n\u001b[0;32m     97\u001b[0m         model, criterion, val_loader,\n\u001b[0;32m     98\u001b[0m         tqdm_desc\u001b[38;5;241m=\u001b[39m\u001b[38;5;124mf\u001b[39m\u001b[38;5;124m'\u001b[39m\u001b[38;5;124mValidating \u001b[39m\u001b[38;5;132;01m{\u001b[39;00mepoch\u001b[38;5;132;01m}\u001b[39;00m\u001b[38;5;124m/\u001b[39m\u001b[38;5;132;01m{\u001b[39;00mnum_epochs\u001b[38;5;132;01m}\u001b[39;00m\u001b[38;5;124m'\u001b[39m\n\u001b[0;32m     99\u001b[0m     )\n\u001b[0;32m    101\u001b[0m     \u001b[38;5;28;01mif\u001b[39;00m scheduler:\n",
      "File \u001b[1;32m~\\Desktop\\1111111111\\ДЗ3\\train.py:59\u001b[0m, in \u001b[0;36mtraining_epoch\u001b[1;34m(model, optimizer, criterion, loader, tqdm_desc, scheduler)\u001b[0m\n\u001b[0;32m     55\u001b[0m     loss\u001b[38;5;241m.\u001b[39mbackward()\n\u001b[0;32m     57\u001b[0m     optimizer\u001b[38;5;241m.\u001b[39mstep()\n\u001b[1;32m---> 59\u001b[0m     train_loss\u001b[38;5;241m+\u001b[39m\u001b[38;5;241m=\u001b[39m\u001b[43mloss\u001b[49m\u001b[38;5;241;43m.\u001b[39;49m\u001b[43mitem\u001b[49m\u001b[43m(\u001b[49m\u001b[43m)\u001b[49m      \n\u001b[0;32m     61\u001b[0m train_loss \u001b[38;5;241m/\u001b[39m\u001b[38;5;241m=\u001b[39m \u001b[38;5;28mlen\u001b[39m(loader\u001b[38;5;241m.\u001b[39mdataset)\n\u001b[0;32m     62\u001b[0m \u001b[38;5;28;01mreturn\u001b[39;00m train_loss\u001b[38;5;241m*\u001b[39mloader\u001b[38;5;241m.\u001b[39mbatch_size\n",
      "\u001b[1;31mRuntimeError\u001b[0m: CUDA error: device-side assert triggered\nCUDA kernel errors might be asynchronously reported at some other API call, so the stacktrace below might be incorrect.\nFor debugging consider passing CUDA_LAUNCH_BLOCKING=1.\nCompile with `TORCH_USE_CUDA_DSA` to enable device-side assertions.\n"
     ]
    }
   ],
   "source": [
    "train(model=model_bpe, optimizer=optimizer,\n",
    "          train_loader=train_loader, val_loader=val_loader, num_epochs= 1, num_examples=3, scheduler=None, temp=0.5)"
   ]
  },
  {
   "cell_type": "code",
   "execution_count": null,
   "id": "d919f2fc",
   "metadata": {},
   "outputs": [],
   "source": [
    "torch.save(model_bpe.state_dict(), 'model_bpe_3000_checkpoint.pth')"
   ]
  },
  {
   "cell_type": "code",
   "execution_count": null,
   "id": "237f4b76",
   "metadata": {},
   "outputs": [],
   "source": [
    "train_set_unigram = TextDataset(data_file='jokes.txt', train=True, sp_model_prefix='unigram', vocab_size=5000)\n",
    "valid_set_unigram = TextDataset(data_file='jokes.txt', train=False, sp_model_prefix='unigram', vocab_size=5000)\n",
    "train_loader_unigram = torch.utils.data.DataLoader(train_set, batch_size=256, shuffle=True)\n",
    "val_loader_unigram = torch.utils.data.DataLoader(valid_set, batch_size=256, shuffle=False)"
   ]
  },
  {
   "cell_type": "code",
   "execution_count": null,
   "id": "0cc98793",
   "metadata": {},
   "outputs": [],
   "source": [
    "model_unigram = LanguageModel(train_set_unigram, rnn_layers=1, rnn_type=nn.LSTM).to(device)\n",
    "optimizer = torch.optim.Adam(model_unigram.parameters(), lr=1e-5, weight_decay=0.00001)\n",
    "scheduler = torch.optim.lr_scheduler.ExponentialLR(optimizer, gamma=0.9999)"
   ]
  },
  {
   "cell_type": "code",
   "execution_count": null,
   "id": "65c06f9b",
   "metadata": {},
   "outputs": [],
   "source": [
    "train(model=model_unigram, optimizer=optimizer,\n",
    "          train_loader=train_loader_unigram, val_loader=val_loader_unigram, num_epochs= 1, \n",
    "    num_examples=5, scheduler=scheduler, temp=0.5)"
   ]
  },
  {
   "cell_type": "code",
   "execution_count": null,
   "id": "dba691bb",
   "metadata": {},
   "outputs": [],
   "source": [
    "torch.save(model_unigram.state_dict(), 'model_unigram_checkpoint.pth')"
   ]
  },
  {
   "cell_type": "markdown",
   "id": "bc550928",
   "metadata": {},
   "source": [
    "## Задание 6. Latent Semantic Analysis (2 балла)\n",
    "\n",
    "Попробуем другой подход к оцениванию качества генерации, основанный на [Latent Semantic Analysis](https://en.wikipedia.org/wiki/Latent_semantic_analysis). Реализуйте следующую метрику и сравните по ней модели, обученные с разными токенизаторами:\n",
    "\n",
    "1. Генерируем обученной моделью выборку текстов, совпадающую по размеру с валидационной выборкой.\n",
    "2. Объединяем две выборки текстов (валидационную и сгенерированную) в один корпус. Обратите внимание, что наша токенизация в общем случае необратима, поэтому для чистоты эксперимента нужно закодировать и декодировать валидационную выборку.\n",
    "3. Генерируем tf-idf матрицу для полученного корпуса.\n",
    "4. Понижаем размерность матрицы с помощью [SVD](https://scikit-learn.org/stable/modules/generated/sklearn.decomposition.TruncatedSVD.html).\n",
    "5. Теперь у нас есть векторы, описывающие валидационные и сгенерированные тексты, лежащие в одном пространстве. Для каждого вектора, отвечающего сгенерированному тексту, найдем наибольший cosine similarity между ним и вектором валидационного текста. Усредним такие similarity по всем сгенерированным текстам и получим число, характеризующее похожесть сгенерированной выборки на валидационную.\n",
    "\n",
    "Какие плюсы и минусы есть у описанной метрики?"
   ]
  },
  {
   "cell_type": "code",
   "execution_count": null,
   "id": "ab18aedc",
   "metadata": {},
   "outputs": [],
   "source": [
    "from sklearn.feature_extraction.text import TfidfVectorizer\n",
    "from sklearn.decomposition import TruncatedSVD"
   ]
  },
  {
   "cell_type": "code",
   "execution_count": null,
   "id": "1415e3c9",
   "metadata": {},
   "outputs": [],
   "source": [
    "def get_cosine_sim(model):\n",
    "    gen_sample = []\n",
    "    valid_sample = []\n",
    "    for i in range(len(valid_set)):\n",
    "        gen_sample.append(model.inference())\n",
    "        valid_sample.append(train_set.ids2text(valid_set[i][0]))\n",
    "    vectorizer = TfidfVectorizer()\n",
    "    vectorizer.fit(gen_sample+valid_sample)\n",
    "    valid_X = vectorizer.transform(valid_sample)\n",
    "    gen_X = vectorizer.transform(gen_sample)\n",
    "    svd = TruncatedSVD(n_components=5, n_iter=100, random_state=42)\n",
    "    valid_X_svd = svd.fit_transform(valid_X)\n",
    "    gen_X_svd = svd.transform(gen_X)\n",
    "    cosine_similarity = (valid_X_svd*gen_X_svd).sum(axis=1)/(np.linalg.norm(valid_X_svd, axis=1)\\\n",
    "                                                             *np.linalg.norm(gen_X_svd,  axis=1))\n",
    "    return np.nanmean(cosine_similarity), valid_X, gen_X"
   ]
  },
  {
   "cell_type": "code",
   "execution_count": null,
   "id": "deeffa86",
   "metadata": {},
   "outputs": [],
   "source": [
    "model = LanguageModel(train_set).to(device)\n",
    "model.load_state_dict(torch.load('model_rnn_checkpoint.pth'))\n",
    "cos1, valid_X, gen_X = get_cosine_sim(model)"
   ]
  },
  {
   "cell_type": "code",
   "execution_count": null,
   "id": "2ac7edef",
   "metadata": {},
   "outputs": [],
   "source": [
    "model = LanguageModel(train_set, rnn_layers=1, rnn_type=nn.LSTM).to(device)\n",
    "model.load_state_dict(torch.load('model_lstm_checkpoint.pth'))\n",
    "cos2, _ , _ = get_cosine_sim(model)"
   ]
  },
  {
   "cell_type": "code",
   "execution_count": null,
   "id": "6130cbf5",
   "metadata": {},
   "outputs": [],
   "source": [
    "model = LanguageModel(train_set_bpe, rnn_layers=1, rnn_type=nn.LSTM).to(device)\n",
    "model.load_state_dict(torch.load('model_bpe_3000_checkpoint.pth'))\n",
    "cos3, _, _ = get_cosine_sim(model)"
   ]
  },
  {
   "cell_type": "code",
   "execution_count": null,
   "id": "9674cd9e",
   "metadata": {},
   "outputs": [],
   "source": [
    "model = LanguageModel(train_set_unigram, rnn_layers=1, rnn_type=nn.LSTM).to(device)\n",
    "model.load_state_dict(torch.load('model_unigram_checkpoint.pth'))\n",
    "cos4, _, _ = get_cosine_sim(model)"
   ]
  },
  {
   "cell_type": "code",
   "execution_count": null,
   "id": "d88cf2de",
   "metadata": {},
   "outputs": [],
   "source": [
    "model_bpe.dataset.vocab_size"
   ]
  },
  {
   "cell_type": "code",
   "execution_count": null,
   "id": "6b60643f",
   "metadata": {},
   "outputs": [],
   "source": [
    "train_set_bpe.vocab_size"
   ]
  },
  {
   "cell_type": "markdown",
   "id": "07e632af",
   "metadata": {},
   "source": [
    "## Задание 7. Visualization (1 балл)\n",
    "\n",
    "В прошлом пункте мы получили векторы, описывающие валидационные и сгенерированные тексты. Попробуем визуализировать их. Примените [TSNE](https://scikit-learn.org/stable/modules/generated/sklearn.manifold.TSNE.html) к этим векторам и нарисуйте scatter-plot с получившимися двумерными представлениями. Точки, соответствующие валидационным и сгенерированным текстам, должны быть разного цвета. Визуализируйте таким образом все три модели для разных токенизаторов. "
   ]
  },
  {
   "cell_type": "code",
   "execution_count": null,
   "id": "2aada1d3",
   "metadata": {},
   "outputs": [],
   "source": [
    "from sklearn.manifold import TSNE\n",
    "import matplotlib.pyplot as plt"
   ]
  },
  {
   "cell_type": "code",
   "execution_count": null,
   "id": "dc8a2fdd",
   "metadata": {},
   "outputs": [],
   "source": [
    "valid_X.shape"
   ]
  },
  {
   "cell_type": "code",
   "execution_count": null,
   "id": "7fe95af5",
   "metadata": {},
   "outputs": [],
   "source": [
    "def plt_v(valid_X, gen_X):\n",
    "    tsne = TSNE(n_components=2, learning_rate='auto',\n",
    "                 init='random', perplexity=3)\n",
    "    valid_embedded = tsne.fit_transform(valid_X)\n",
    "    gen_embedded = tsne.fit_transform(gen_X)\n",
    "    print(valid_embedded.shape, valid_X.shape)\n",
    "    plt.figure(figsize=(14, 7))\n",
    "    plt.scatter(valid_embedded[:, 0], valid_embedded[:,1], label='valid')\n",
    "    plt.scatter(gen_embedded[:,0], gen_embedded[:,1], label='gen')\n",
    "    plt.legend()\n",
    "    plt.show()\n",
    "    "
   ]
  },
  {
   "cell_type": "code",
   "execution_count": null,
   "id": "de349d14",
   "metadata": {},
   "outputs": [],
   "source": [
    "plt_v(valid_X, gen_X)"
   ]
  },
  {
   "cell_type": "markdown",
   "id": "41d9cba5",
   "metadata": {},
   "source": [
    "## Задание 8. ruGPT perplexity (3.5 балла)\n",
    "\n",
    "Подход Latent Semantic Analysis, как и многие другие классические методы, заметно уступает нейросетевым алгоритмам анализа текстов. Вернемся к оцениванию качества генерации с помощью perplexity, для этого возьмем большую и хорошо обученную языковую модель, которая училась на огромном корпусе русских текстов. Считается, что большие языковые модели хорошо выучивают естественный язык, потому с их помощью мы сможем оценивать качество наших маленьких моделей для генерации анекдотов. Для этого мы воспользуемся сервисом [HuggingFace](https://huggingface.co/), который содержит огромное число обученных моделей для самых разных задач. Изучите и реализуйте, [подсчет perplexity](https://huggingface.co/docs/transformers/perplexity), с использованием обученной языковой модели. В качестве модели возьмите [ruGPT3-small](https://huggingface.co/sberbank-ai/rugpt3small_based_on_gpt2). Сгенерируйте синтетические выборки тремя моделями, обученными выше (можете взять выборки из задания 6), и сравните их по perplexity."
   ]
  },
  {
   "cell_type": "code",
   "execution_count": null,
   "id": "568f6d23",
   "metadata": {},
   "outputs": [],
   "source": [
    "from transformers import GPT2LMHeadModel, GPT2Tokenizer"
   ]
  },
  {
   "cell_type": "code",
   "execution_count": null,
   "id": "a62b6292",
   "metadata": {},
   "outputs": [],
   "source": [
    "\n",
    "tokenizer = GPT2Tokenizer.from_pretrained(\"sberbank-ai/rugpt3small_based_on_gpt2\")\n",
    "model = GPT2LMHeadModel.from_pretrained(\"sberbank-ai/rugpt3small_based_on_gpt2\")\n",
    "\n",
    "\n",
    "input_text = 'сел медведь в машину'\n",
    "input_ids = tokenizer.encode(input_text, return_tensors=\"pt\")\n",
    "attention_mask = torch.ones(input_ids.shape, dtype=torch.long)\n",
    "output = model.generate(input_ids, attention_mask=attention_mask, max_length=100, pad_token_id=tokenizer.pad_token_id, eos_token_id=tokenizer.eos_token_id)\n",
    "gen_text = tokenizer.decode(output[0], skip_special_tokens=True)\n",
    "gen_text\n",
    "\n",
    "\n"
   ]
  },
  {
   "cell_type": "code",
   "execution_count": null,
   "id": "bf07c18f",
   "metadata": {},
   "outputs": [],
   "source": [
    "import torch\n",
    "import seaborn as sns\n",
    "import matplotlib.pyplot as plt\n",
    "from typing import List, Optional, Any\n",
    "from torch import nn\n",
    "from torch.utils.data import DataLoader\n",
    "from IPython.display import clear_output\n",
    "from tqdm.notebook import tqdm\n",
    "from model import LanguageModel\n",
    "import numpy as np\n",
    "\n",
    "sns.set_style('whitegrid')\n",
    "plt.rcParams.update({'font.size': 15})\n",
    "\n",
    "\n",
    "def plot_losses(train_losses: List[float], val_losses: List[float]):\n",
    "\n",
    "    clear_output()\n",
    "    fig, axs = plt.subplots(1, 2, figsize=(13, 4))\n",
    "    axs[0].plot(range(1, len(train_losses) + 1), train_losses, label='train')\n",
    "    axs[0].plot(range(1, len(val_losses) + 1), val_losses, label='val')\n",
    "    axs[0].set_ylabel('loss')\n",
    "\n",
    "    train_perplexities, val_perplexities = [], []\n",
    "    train_perplexities = np.power([2]*len(train_losses), train_losses)\n",
    "    val_perplexities = np.power([2]*len(val_losses), val_losses)\n",
    "\n",
    "    axs[1].plot(range(1, len(train_perplexities) + 1), train_perplexities, label='train')\n",
    "    axs[1].plot(range(1, len(val_perplexities) + 1), val_perplexities, label='val')\n",
    "    axs[1].set_ylabel('perplexity')\n",
    "\n",
    "    for ax in axs:\n",
    "        ax.set_xlabel('epoch')\n",
    "        ax.legend()\n",
    "\n",
    "    plt.show()\n",
    "\n",
    "\n",
    "def training_epoch(model: LanguageModel, optimizer: torch.optim.Optimizer, criterion: nn.Module,\n",
    "                   loader: DataLoader, tqdm_desc: str, scheduler):\n",
    "\n",
    "    device = next(model.parameters()).device\n",
    "    train_loss = 0.0\n",
    "\n",
    "    model.train()\n",
    "    for indices, lengths in tqdm(loader, desc=tqdm_desc):\n",
    "        \n",
    "        optimizer.zero_grad()\n",
    "        indices = indices.to(device)\n",
    "        #print(indices)\n",
    "        logits = model(indices[:, :-1])\n",
    "        \n",
    "        loss = criterion(logits.transpose(1,2), indices[:, 1:])\n",
    "        print(loss.item())\n",
    "        #print(model.decoder[0].attention.attention_heads[0].Wq.weight) \n",
    "        loss.backward()\n",
    "        #print(model.decoder[0].attention.attention_heads[0].Wq.weight) \n",
    "        optimizer.step()\n",
    "        if scheduler:\n",
    "            scheduler.step()\n",
    "            print(scheduler.get_last_lr())\n",
    "        train_loss+=loss.item()      \n",
    "            \n",
    "    train_loss /= len(loader.dataset)\n",
    "    return train_loss*loader.batch_size\n",
    "\n",
    "\n",
    "@torch.no_grad()\n",
    "def validation_epoch(model: LanguageModel, criterion: nn.Module,\n",
    "                     loader: DataLoader, tqdm_desc: str):\n",
    "\n",
    "    device = next(model.parameters()).device\n",
    "    val_loss = 0.0\n",
    "\n",
    "    model.eval()\n",
    "    for indices, lengths in tqdm(loader, desc=tqdm_desc):\n",
    "        \n",
    "        tokens = indices.to(device)\n",
    "        logits = model(tokens[:, :-1])\n",
    "        \n",
    "        loss = criterion(logits.transpose(1,2), tokens[:, 1:])\n",
    "        val_loss += loss.item()\n",
    "\n",
    "    val_loss /= len(loader.dataset)\n",
    "    return val_loss*loader.batch_size\n",
    "\n",
    "\n",
    "def train(model: LanguageModel, optimizer: torch.optim.Optimizer, scheduler: Optional[Any],\n",
    "          train_loader: DataLoader, val_loader: DataLoader, num_epochs: int, num_examples=2, temp=1):\n",
    "\n",
    "    train_losses, val_losses = [], []\n",
    "    criterion = nn.CrossEntropyLoss(ignore_index=train_loader.dataset.pad_id)\n",
    "\n",
    "    for epoch in range(1, num_epochs + 1):\n",
    "        train_loss = training_epoch(\n",
    "            model, optimizer, criterion, train_loader,\n",
    "            tqdm_desc=f'Training {epoch}/{num_epochs}', scheduler=scheduler\n",
    "        )\n",
    "        val_loss = validation_epoch(\n",
    "            model, criterion, val_loader,\n",
    "            tqdm_desc=f'Validating {epoch}/{num_epochs}'\n",
    "        )\n",
    "\n",
    "\n",
    "\n",
    "        train_losses += [train_loss]\n",
    "        val_losses += [val_loss]\n",
    "        plot_losses(train_losses, val_losses)\n",
    "\n",
    "        print('Generation examples:')\n",
    "        for _ in range(1):\n",
    "            print(model.generate())\n",
    "            print()\n",
    "        for prefix in [ 'купил мужик шляпу,', 'сел медведь в машину и', 'подумал штирлиц']:\n",
    "\n",
    "            generated = model.generate(prefix)\n",
    "            print(generated)\n",
    "            print()"
   ]
  },
  {
   "cell_type": "code",
   "execution_count": null,
   "id": "8b16f015",
   "metadata": {},
   "outputs": [],
   "source": [
    "train(model=model_unigram, optimizer=optimizer,\n",
    "          train_loader=train_loader, val_loader=val_loader, num_epochs= 12, num_examples=5, scheduler=scheduler, temp=0.5)"
   ]
  },
  {
   "cell_type": "markdown",
   "id": "b3c5d3dc",
   "metadata": {},
   "source": [
    "## Бонус (0.1 балл)\n",
    "\n",
    "Покажите лучший анекдот, который удалось сгенерировать вашей модели. Если проверяющий найдет его смешным, то поставит 0.1 балла."
   ]
  }
 ],
 "metadata": {
  "kernelspec": {
   "display_name": "Python 3 (ipykernel)",
   "language": "python",
   "name": "python3"
  },
  "language_info": {
   "codemirror_mode": {
    "name": "ipython",
    "version": 3
   },
   "file_extension": ".py",
   "mimetype": "text/x-python",
   "name": "python",
   "nbconvert_exporter": "python",
   "pygments_lexer": "ipython3",
   "version": "3.9.12"
  }
 },
 "nbformat": 4,
 "nbformat_minor": 5
}
